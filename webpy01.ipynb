{
 "cells": [
  {
   "cell_type": "markdown",
   "metadata": {},
   "source": [
    "# #安装webpy"
   ]
  },
  {
   "cell_type": "code",
   "execution_count": 12,
   "metadata": {},
   "outputs": [
    {
     "ename": "SyntaxError",
     "evalue": "invalid syntax (<ipython-input-12-2df2a96bee40>, line 1)",
     "output_type": "error",
     "traceback": [
      "\u001b[1;36m  File \u001b[1;32m\"<ipython-input-12-2df2a96bee40>\"\u001b[1;36m, line \u001b[1;32m1\u001b[0m\n\u001b[1;33m    pip list\u001b[0m\n\u001b[1;37m           ^\u001b[0m\n\u001b[1;31mSyntaxError\u001b[0m\u001b[1;31m:\u001b[0m invalid syntax\n"
     ]
    }
   ],
   "source": [
    "pip list \n",
    "pip install web.py"
   ]
  },
  {
   "cell_type": "markdown",
   "metadata": {},
   "source": [
    "## 开始模板"
   ]
  },
  {
   "cell_type": "code",
   "execution_count": 16,
   "metadata": {},
   "outputs": [],
   "source": [
    "import web\n",
    "        \n",
    "urls = (\n",
    "    '/(.*)', 'hello'\n",
    ")\n",
    "app = web.application(urls, globals())\n",
    "\n",
    "class hello:        \n",
    "    def GET(self, name):\n",
    "        if not name: \n",
    "            name = 'World'\n",
    "        return 'Hello, ' + name + '!'\n",
    "\n",
    "if __name__ == \"__main__\":\n",
    "    app.run()"
   ]
  },
  {
   "cell_type": "markdown",
   "metadata": {},
   "source": [
    "## url映射"
   ]
  },
  {
   "cell_type": "code",
   "execution_count": 13,
   "metadata": {},
   "outputs": [],
   "source": [
    "import web\n",
    "\n",
    "urls = (\n",
    "\t'/index','index',\n",
    "\t'/blog\\d','blog',\n",
    "    '/(.*)', 'hello'\n",
    ")\n",
    "app = web.application(urls, globals())\n",
    "\n",
    "class index:\n",
    "\tdef GET(self):\n",
    "\t\treturn 'index method'\n",
    "class blog:\n",
    "\tdef GET(self):\n",
    "\t\treturn 'blog method'\n",
    "\t\n",
    "\tdef POST(self):\n",
    "\t\treturn 'blog post method'\n",
    "\t\n",
    "class hello:        \n",
    "    def GET(self,name):\n",
    "\t#\treturn open(r'1.html','r').read() \n",
    "\t     return 'blog method'+name"
   ]
  },
  {
   "cell_type": "markdown",
   "metadata": {},
   "source": [
    "## web请求"
   ]
  },
  {
   "cell_type": "code",
   "execution_count": null,
   "metadata": {
    "collapsed": true
   },
   "outputs": [],
   "source": [
    "web.input() #请求参数获取\n",
    "web.ctx.env  #请求头获取\n",
    "query = web.input()\n",
    "return query\n"
   ]
  },
  {
   "cell_type": "markdown",
   "metadata": {},
   "source": [
    "## 响应处理"
   ]
  },
  {
   "cell_type": "code",
   "execution_count": null,
   "metadata": {
    "collapsed": true
   },
   "outputs": [],
   "source": [
    "render.index(\"参数\") #模板文件读取\n",
    "model.select(\"sql\") # 结果数据获取\n",
    "web.seeother(\"/\") #URL跳转"
   ]
  },
  {
   "cell_type": "code",
   "execution_count": 17,
   "metadata": {},
   "outputs": [
    {
     "name": "stdout",
     "output_type": "stream",
     "text": [
      "[2, 5, 6, 7, 7, 7]\n"
     ]
    }
   ],
   "source": [
    "a =[2,5,6,7,7,7]\n",
    "print a"
   ]
  },
  {
   "cell_type": "code",
   "execution_count": null,
   "metadata": {
    "collapsed": true
   },
   "outputs": [],
   "source": []
  },
  {
   "cell_type": "code",
   "execution_count": null,
   "metadata": {
    "collapsed": true
   },
   "outputs": [],
   "source": []
  },
  {
   "cell_type": "code",
   "execution_count": null,
   "metadata": {
    "collapsed": true
   },
   "outputs": [],
   "source": []
  },
  {
   "cell_type": "code",
   "execution_count": null,
   "metadata": {
    "collapsed": true
   },
   "outputs": [],
   "source": []
  }
 ],
 "metadata": {
  "kernelspec": {
   "display_name": "Python 2",
   "language": "python",
   "name": "python2"
  },
  "language_info": {
   "codemirror_mode": {
    "name": "ipython",
    "version": 2
   },
   "file_extension": ".py",
   "mimetype": "text/x-python",
   "name": "python",
   "nbconvert_exporter": "python",
   "pygments_lexer": "ipython2",
   "version": "2.7.14"
  }
 },
 "nbformat": 4,
 "nbformat_minor": 2
}
