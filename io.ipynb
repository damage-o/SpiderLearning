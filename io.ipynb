{
 "cells": [
  {
   "cell_type": "markdown",
   "metadata": {},
   "source": [
    "# 文件读入"
   ]
  },
  {
   "cell_type": "code",
   "execution_count": 40,
   "metadata": {
    "scrolled": true
   },
   "outputs": [
    {
     "name": "stdout",
     "output_type": "stream",
     "text": [
      "(dp1\n",
      "S'content'\n",
      "p2\n",
      "S'\\xe9\\xa6\\x96\\xe9\\xa1\\xb5\\xe5\\x9b\\xbd\\xe5\\xaf\\xbf'\n",
      "p3\n",
      "sS'url'\n",
      "p4\n",
      "S'index.html'\n",
      "p5\n",
      "sS'title'\n",
      "p6\n",
      "S'\\xe9\\xa6\\x96\\xe9\\xa1\\xb5'\n",
      "p7\n",
      "s.\n"
     ]
    }
   ],
   "source": [
    "# 读取文件内容 r 读 w 写 a 追加 b 二进制 +读写\n",
    "try:\n",
    "    f = open(r'E:\\sourceTest\\test02.py','r')\n",
    "    print f.read()  # read(size) 控制读入文件大小\n",
    "finally:\n",
    "    if f:\n",
    "        f.close()"
   ]
  },
  {
   "cell_type": "code",
   "execution_count": 8,
   "metadata": {},
   "outputs": [
    {
     "name": "stdout",
     "output_type": "stream",
     "text": [
      "#codin\n"
     ]
    }
   ],
   "source": [
    "# 一种简单的写法代替try...finally...\n",
    "with open(r'E:\\sourceTest\\test02.py','r') as fileReader: \n",
    "    #readline() 读行 readlines()读入line的list\n",
    "    print fileReader.readline(6)  # readline(size) 读一行的前size个字节"
   ]
  },
  {
   "cell_type": "code",
   "execution_count": 31,
   "metadata": {},
   "outputs": [
    {
     "name": "stdout",
     "output_type": "stream",
     "text": [
      "(dp1\n",
      "S'content'\n",
      "p2\n",
      "S'\\xe9\\xa6\\x96\\xe9\\xa1\\xb5\\xe5\\x9b\\xbd\\xe5\\xaf\\xbf'\n",
      "p3\n",
      "sS'url'\n",
      "p4\n",
      "S'index.html'\n",
      "p5\n",
      "sS'title'\n",
      "p6\n",
      "S'\\xe9\\xa6\\x96\\xe9\\xa1\\xb5'\n",
      "p7\n",
      "s.\n"
     ]
    }
   ],
   "source": [
    "# 读入一另一种写法\n",
    "with open(r'E:\\sourceTest\\test02.py','r') as fileReader: \n",
    "    for line in fileReader.readlines():\n",
    "        print line.strip()"
   ]
  },
  {
   "cell_type": "markdown",
   "metadata": {},
   "source": [
    "# 文件写入"
   ]
  },
  {
   "cell_type": "code",
   "execution_count": 14,
   "metadata": {
    "collapsed": true
   },
   "outputs": [],
   "source": [
    "f = open(r'E:\\sourceTest\\test02.py','a')\n",
    "f.write('#爬虫')\n",
    "f.close()"
   ]
  },
  {
   "cell_type": "code",
   "execution_count": 16,
   "metadata": {
    "collapsed": true
   },
   "outputs": [],
   "source": [
    "with open(r'E:\\sourceTest\\test02.py','a') as fileWriter:\n",
    "    fileWriter.write('#coding=utf-8')"
   ]
  },
  {
   "cell_type": "code",
   "execution_count": 24,
   "metadata": {},
   "outputs": [
    {
     "data": {
      "text/plain": [
       "['1.html', 'test01.py', 'test02.py', 'webpy_hello.py', 'webpy_hello.pyc']"
      ]
     },
     "execution_count": 24,
     "metadata": {},
     "output_type": "execute_result"
    }
   ],
   "source": [
    "import os\n",
    "#os.getcwd() #获取当前python脚本的工作目录路径\n",
    "os.listdir('E:\\sourceTest')  #获取文件目录下的文件名列表\n",
    "os.remove(filepath)\n",
    "os.removedirs(r\"filepath\")\n",
    "os.path.isfile(filepath)\n",
    "os.path.isdir(filepath)\n",
    "os.path.isabs() #是否为绝对路径\n"
   ]
  },
  {
   "cell_type": "code",
   "execution_count": 27,
   "metadata": {},
   "outputs": [
    {
     "data": {
      "text/plain": [
       "True"
      ]
     },
     "execution_count": 27,
     "metadata": {},
     "output_type": "execute_result"
    }
   ],
   "source": [
    "os.path.exists(r\"E:\\sourceTest\") #判断是否真实存在 （file 否 dir）"
   ]
  },
  {
   "cell_type": "markdown",
   "metadata": {},
   "source": [
    "# 序列化 cPickle 与pickle"
   ]
  },
  {
   "cell_type": "code",
   "execution_count": 33,
   "metadata": {},
   "outputs": [
    {
     "data": {
      "text/plain": [
       "\"(dp1\\nS'content'\\np2\\nS'\\\\xe9\\\\xa6\\\\x96\\\\xe9\\\\xa1\\\\xb5\\\\xe5\\\\x9b\\\\xbd\\\\xe5\\\\xaf\\\\xbf'\\np3\\nsS'url'\\np4\\nS'index.html'\\np5\\nsS'title'\\np6\\nS'\\\\xe9\\\\xa6\\\\x96\\\\xe9\\\\xa1\\\\xb5'\\np7\\ns.\""
      ]
     },
     "execution_count": 33,
     "metadata": {},
     "output_type": "execute_result"
    }
   ],
   "source": [
    "try:\n",
    "    import cPickle as pickle\n",
    "except ImportError:\n",
    "    import pickle\n",
    "d = dict(url = 'index.html',title='首页',content='首页国寿')\n",
    "pickle.dumps(d)"
   ]
  },
  {
   "cell_type": "code",
   "execution_count": 34,
   "metadata": {
    "collapsed": true
   },
   "outputs": [],
   "source": [
    "#将 其保存到文件中\n",
    "f = open(r'E:\\sourceTest\\test02.py','wb')\n",
    "pickle.dump(d,f)\n",
    "f.close()"
   ]
  },
  {
   "cell_type": "code",
   "execution_count": 39,
   "metadata": {},
   "outputs": [
    {
     "data": {
      "text/plain": [
       "{'content': '\\xe9\\xa6\\x96\\xe9\\xa1\\xb5\\xe5\\x9b\\xbd\\xe5\\xaf\\xbf',\n",
       " 'title': '\\xe9\\xa6\\x96\\xe9\\xa1\\xb5',\n",
       " 'url': 'index.html'}"
      ]
     },
     "execution_count": 39,
     "metadata": {},
     "output_type": "execute_result"
    }
   ],
   "source": [
    "# 反序列化 cPickle 与pickle的load()与load()\n",
    "f = open(r'E:\\sourceTest\\test02.py','rb')\n",
    "d=pickle.load(f)\n",
    "f.close()\n",
    "d\n"
   ]
  },
  {
   "cell_type": "code",
   "execution_count": null,
   "metadata": {
    "collapsed": true
   },
   "outputs": [],
   "source": []
  },
  {
   "cell_type": "code",
   "execution_count": null,
   "metadata": {
    "collapsed": true
   },
   "outputs": [],
   "source": []
  },
  {
   "cell_type": "code",
   "execution_count": null,
   "metadata": {
    "collapsed": true
   },
   "outputs": [],
   "source": []
  },
  {
   "cell_type": "code",
   "execution_count": null,
   "metadata": {
    "collapsed": true
   },
   "outputs": [],
   "source": []
  },
  {
   "cell_type": "code",
   "execution_count": null,
   "metadata": {
    "collapsed": true
   },
   "outputs": [],
   "source": []
  },
  {
   "cell_type": "code",
   "execution_count": null,
   "metadata": {
    "collapsed": true
   },
   "outputs": [],
   "source": []
  }
 ],
 "metadata": {
  "kernelspec": {
   "display_name": "Python 2",
   "language": "python",
   "name": "python2"
  },
  "language_info": {
   "codemirror_mode": {
    "name": "ipython",
    "version": 2
   },
   "file_extension": ".py",
   "mimetype": "text/x-python",
   "name": "python",
   "nbconvert_exporter": "python",
   "pygments_lexer": "ipython2",
   "version": "2.7.14"
  }
 },
 "nbformat": 4,
 "nbformat_minor": 2
}
