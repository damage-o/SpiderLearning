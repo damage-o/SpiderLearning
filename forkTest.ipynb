{
 "cells": [
  {
   "cell_type": "markdown",
   "metadata": {},
   "source": [
    "# os.fork方式（Unix/Linux）"
   ]
  },
  {
   "cell_type": "code",
   "execution_count": 3,
   "metadata": {},
   "outputs": [
    {
     "ename": "SyntaxError",
     "evalue": "invalid syntax (<ipython-input-3-19002a8c41f2>, line 2)",
     "output_type": "error",
     "traceback": [
      "\u001b[1;36m  File \u001b[1;32m\"<ipython-input-3-19002a8c41f2>\"\u001b[1;36m, line \u001b[1;32m2\u001b[0m\n\u001b[1;33m    if __name__ == '__main__'\u001b[0m\n\u001b[1;37m                             ^\u001b[0m\n\u001b[1;31mSyntaxError\u001b[0m\u001b[1;31m:\u001b[0m invalid syntax\n"
     ]
    }
   ],
   "source": [
    "import os\n",
    "if __name__ == '__main__'\n",
    "print 'current Process (%s) start...'%(os.getpid())\n",
    "pid = os.fork()\n",
    "if pid < 0:\n",
    "    print 'error in fork'\n",
    "elif pid == 0:\n",
    "    print 'I am child process(%s) and My parent process is (%s)',(os.getpid(),os.getppid())\n",
    "else:\n",
    "    print 'I (%s) created a child process (%s).',(os.getpid(),pid)"
   ]
  },
  {
   "cell_type": "markdown",
   "metadata": {},
   "source": [
    "# multiprocessing 方式(所有操作系统)"
   ]
  },
  {
   "cell_type": "code",
   "execution_count": 4,
   "metadata": {},
   "outputs": [
    {
     "name": "stdout",
     "output_type": "stream",
     "text": [
      "Parent Process 1260.\n",
      "Process will start.\n",
      "Process will start.\n",
      "Process will start.\n",
      "Process will start.\n",
      "Process will start.\n",
      "Process end.\n"
     ]
    }
   ],
   "source": [
    "import os\n",
    "from multiprocessing import Process\n",
    "\n",
    "def run_proc(name):\n",
    "    print 'Child process %s(%s) is Running...'%(name,os.getpid())\n",
    "if __name__ == '__main__':\n",
    "    print 'Parent Process %s.'% os.getpid()\n",
    "    for i in range(5):\n",
    "        p = Process(target=run_proc, args=(str(i),))\n",
    "        print 'Process will start.'\n",
    "        p.start()\n",
    "    p.join()\n",
    "    print  'Process end.'"
   ]
  },
  {
   "cell_type": "code",
   "execution_count": null,
   "metadata": {
    "collapsed": true
   },
   "outputs": [],
   "source": []
  }
 ],
 "metadata": {
  "kernelspec": {
   "display_name": "Python 2",
   "language": "python",
   "name": "python2"
  },
  "language_info": {
   "codemirror_mode": {
    "name": "ipython",
    "version": 2
   },
   "file_extension": ".py",
   "mimetype": "text/x-python",
   "name": "python",
   "nbconvert_exporter": "python",
   "pygments_lexer": "ipython2",
   "version": "2.7.14"
  }
 },
 "nbformat": 4,
 "nbformat_minor": 2
}
